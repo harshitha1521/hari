{
  "nbformat": 4,
  "nbformat_minor": 0,
  "metadata": {
    "colab": {
      "name": "Untitled0.ipynb",
      "provenance": [],
      "collapsed_sections": [],
      "authorship_tag": "ABX9TyMzApbVGAeWrZcvX8+3CfDq",
      "include_colab_link": true
    },
    "kernelspec": {
      "name": "python3",
      "display_name": "Python 3"
    },
    "language_info": {
      "name": "python"
    }
  },
  "cells": [
    {
      "cell_type": "markdown",
      "metadata": {
        "id": "view-in-github",
        "colab_type": "text"
      },
      "source": [
        "<a href=\"https://colab.research.google.com/github/harshitha1521/hari/blob/main/Untitled0.ipynb\" target=\"_parent\"><img src=\"https://colab.research.google.com/assets/colab-badge.svg\" alt=\"Open In Colab\"/></a>"
      ]
    },
    {
      "cell_type": "code",
      "metadata": {
        "colab": {
          "base_uri": "https://localhost:8080/"
        },
        "id": "QplP3kJmBYQU",
        "outputId": "95018deb-18bc-452d-93e8-8b028fc88dde"
      },
      "source": [
        "a=45\n",
        "b=35\n",
        "c=50\n",
        "d=90\n",
        "sum=c+d\n",
        "print(\"sum is\",sum)\n",
        "subtract=a-b\n",
        "print(\"difference is\",subtract)\n",
        "multiply=a*c\n",
        "print(\"product is\",multiply)\n",
        "divide=b/c\n",
        "print(\"quotient is\",divide)\n"
      ],
      "execution_count": 1,
      "outputs": [
        {
          "output_type": "stream",
          "name": "stdout",
          "text": [
            "sum is 140\n",
            "difference is 10\n",
            "product is 2250\n",
            "quotient is 0.7\n"
          ]
        }
      ]
    }
  ]
}
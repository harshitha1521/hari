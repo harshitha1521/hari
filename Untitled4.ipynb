{
  "nbformat": 4,
  "nbformat_minor": 0,
  "metadata": {
    "colab": {
      "name": "Untitled4.ipynb",
      "provenance": [],
      "authorship_tag": "ABX9TyP6eewd90DEPsl2WXlwv/53",
      "include_colab_link": true
    },
    "kernelspec": {
      "name": "python3",
      "display_name": "Python 3"
    },
    "language_info": {
      "name": "python"
    }
  },
  "cells": [
    {
      "cell_type": "markdown",
      "metadata": {
        "id": "view-in-github",
        "colab_type": "text"
      },
      "source": [
        "<a href=\"https://colab.research.google.com/github/harshitha1521/hari/blob/main/Untitled4.ipynb\" target=\"_parent\"><img src=\"https://colab.research.google.com/assets/colab-badge.svg\" alt=\"Open In Colab\"/></a>"
      ]
    },
    {
      "cell_type": "code",
      "metadata": {
        "colab": {
          "base_uri": "https://localhost:8080/"
        },
        "id": "WnR3ARvVm7SF",
        "outputId": "8bba6c6a-5d67-46d6-8ca3-0fe924e284b5"
      },
      "source": [
        "email=\"firstname.lastname.1995@gmail.com\"\n",
        "p=email.split(\".\",1)\n",
        "print(\"first name :\",p[0])\n",
        "c=p[1]\n",
        "print(\"last name:\",c[0:9])\n",
        "print(\"birth year :\",c[9:13])\n",
        "print(\"age :\",2021-int(c[9:13]))\n",
        "print(\"domain :\",c[-9:])\n"
      ],
      "execution_count": 4,
      "outputs": [
        {
          "output_type": "stream",
          "name": "stdout",
          "text": [
            "first name : firstname\n",
            "last name: lastname.\n",
            "birth year : 1995\n",
            "age : 26\n",
            "domain : gmail.com\n"
          ]
        }
      ]
    }
  ]
}